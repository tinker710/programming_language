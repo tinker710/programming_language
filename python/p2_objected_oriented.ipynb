{
 "cells": [
  {
   "cell_type": "markdown",
   "id": "stone-residence",
   "metadata": {},
   "source": [
    "# 1. 面向对象\n",
    "把一组数据结构和处理他们的方法组成对象（object），把相同行为的对象归纳为类（class),通过类的封装（encapsulation）隐藏内部细节，通过继承（inheritance）实现类的特化（specialization）和泛化（generalization),通过多态（polymorphism)实现基于对象类型的动态分派。\n",
    "## 1.1 类和对象\n",
    "1. 简单的说，类是对象的蓝图和模板，而对象是类的实例。\n",
    "2. 在面向对象编程的世界中，一切皆为对象，对象都有属性和行为，每个对象都是独一无二的，而且对象一定属于某个类（型）。\n",
    "3. 当我们把一大堆拥有共同特征的对象的静态特征（属性）和动态特征（行为）都抽取出来后，就可以定义出一个叫做“类”的东西。\n",
    "\n",
    "### 1.1.1 定义类\n",
    "self 代表实例本身"
   ]
  },
  {
   "cell_type": "code",
   "execution_count": 17,
   "id": "earned-death",
   "metadata": {},
   "outputs": [],
   "source": [
    "# 定义类\n",
    "# 在python中可以使用 class 关键字定义类，然后在类中通过之前学习过的函数来定义方法，这样就可以将对象的动态特征描述出来，代码如下所示\n",
    "\n",
    "class Student(object):\n",
    "    # __init__是一个特殊方法用于在创建对象时进行初始化操作\n",
    "    # 通过这个方法我们可以为学生对象绑定name和age两个属性\n",
    "    def __init__(self, name, age):\n",
    "        self.name = name\n",
    "        self.age = age\n",
    "        \n",
    "    def study(self, course_name):\n",
    "        print(\"%s正在学习%s.\" %(self.name, course_name))\n",
    "    \n",
    "    def watch_movie(self):\n",
    "        if self.age < 18:\n",
    "            print(\"%s只能观看熊出没\" % self.name)\n",
    "        else:\n",
    "            print(\"{}正在观看蜡笔小新\".format(self.name))\n",
    "    \n",
    "    "
   ]
  },
  {
   "cell_type": "code",
   "execution_count": 7,
   "id": "proof-oasis",
   "metadata": {},
   "outputs": [
    {
     "name": "stdout",
     "output_type": "stream",
     "text": [
      "hahaha mjj 3\n",
      "hahaha maodan 2\n"
     ]
    }
   ],
   "source": [
    "class Dog:\n",
    "    d_type = \"京巴\"  # 属性，类属性， 类变量， 公共属性\n",
    "    sss = \"sss\"  # 属性，类属性， 类变量， 公共属性\n",
    "    \n",
    "    def __init__(self, name, age): #初始化方法，构造方法，构造函数，实例化时会自动执行，进行一些初始化工作\n",
    "        print(\"hahaha\",name,age)\n",
    "        # 要想把name， age这两个值真正存到实例里。就要把2个值跟实例绑定\n",
    "        self.name = name # 绑定参数值到实例上\n",
    "        self.age = age\n",
    "        \n",
    "    def say_hi(self): # 方法， 第一个参数必须是self， self代表实例本身\n",
    "        print(\"hell, I am a dog, my type is ...\",self.d_type)\n",
    "        \n",
    "d = Dog('mjj',3)\n",
    "d2 = Dog(\"maodan\",2)"
   ]
  },
  {
   "cell_type": "markdown",
   "id": "latest-burton",
   "metadata": {},
   "source": [
    "### 1.1.2 创建和使用对象\n",
    "当我们定义好一个类之后，可以通过下面的方式来创建对象并给对象发消息。"
   ]
  },
  {
   "cell_type": "code",
   "execution_count": 4,
   "id": "celtic-agent",
   "metadata": {},
   "outputs": [
    {
     "name": "stdout",
     "output_type": "stream",
     "text": [
      "A正在学习python programming.\n",
      "A正在观看蜡笔小新\n",
      "W正在学习思想品德.\n",
      "W只能观看熊出没\n"
     ]
    }
   ],
   "source": [
    "def main():\n",
    "    stu1 = Student(\"A\",38)\n",
    "    stu1.study('python programming')\n",
    "    stu1.watch_movie()\n",
    "    stu2 = Student(\"W\",15)\n",
    "    stu2.study('思想品德')\n",
    "    stu2.watch_movie()\n",
    "    \n",
    "if __name__ == '__main__':\n",
    "    main()"
   ]
  },
  {
   "cell_type": "markdown",
   "id": "complex-victorian",
   "metadata": {},
   "source": [
    "### 1.1.3 属性引用\n",
    "#### 类的公共属性引用\n",
    "类名.属性\n",
    "#### 实例属性（实例变量，成员变量，每个实例独享）\n",
    "实例.属性\n",
    "\n",
    "## 1.2 对象之间的交互"
   ]
  },
  {
   "cell_type": "code",
   "execution_count": 16,
   "id": "pediatric-january",
   "metadata": {},
   "outputs": [
    {
     "name": "stdout",
     "output_type": "stream",
     "text": [
      "狗Mjj咬了人abc，人掉血20，还剩血量80\n",
      "人abc打了狗Mjj，狗掉血25，还剩血量75\n"
     ]
    }
   ],
   "source": [
    "class Dog: #定义一个狗类\n",
    "    role = \"dog\"\n",
    "    def __init__(self, name, breed, attack_val):\n",
    "        self.name = name\n",
    "        self.breed = breed\n",
    "        self.attack_val = attack_val\n",
    "        self.life_val = 100\n",
    "    \n",
    "    def bite(self, person):\n",
    "        person.life_val -= self.attack_val #狗咬人，那么人的生命值就会根据狗的攻击力而下降\n",
    "        print(\"狗{}咬了人{}，人掉血{}，还剩血量{}\".format(self.name, person.name, self.attack_val, person.life_val))\n",
    "\n",
    "class Person:\n",
    "    role = 'person'\n",
    "    \n",
    "    def __init__(self, name, sex, attack_val):\n",
    "        self.name = name\n",
    "        self.attack_val = attack_val\n",
    "        self.life_val = 100\n",
    "        self.sex = sex\n",
    "        \n",
    "    def attack(self, dog):\n",
    "        dog.life_val -= self.attack_val\n",
    "        print(\"人{}打了狗{}，狗掉血{}，还剩血量{}\".format(self.name, dog.name, self.attack_val, dog.life_val))\n",
    "              \n",
    "d = Dog(\"Mjj\",\"gold\",20)\n",
    "p = Person(\"abc\",\"M\", 25)\n",
    "\n",
    "d.bite(p)\n",
    "p.attack(d)"
   ]
  },
  {
   "cell_type": "markdown",
   "id": "conventional-agent",
   "metadata": {},
   "source": [
    "## 1.3 类与类之间的关系\n",
    "1. 依赖关系，狗和主人的关系\n",
    "2. 关联关系，你和你女朋友的关系就是关联关系\n",
    "3. 聚合关系，电脑的各部件组成完整的电脑，电脑里有CPU，硬盘，内存等。每个组件有自己的生命周期，电脑挂了，CPU还是好的，还是完整的个体\n",
    "4. 组合关系，比聚合还要紧密。比如人的大脑，心脏，各个器官。这些器官组成一个人。这时，人如果挂了，其它的东西也跟着挂了\n",
    "5. 继承关系，类的三大特性之一，子承父业"
   ]
  },
  {
   "cell_type": "markdown",
   "id": "experimental-scholarship",
   "metadata": {},
   "source": [
    "## 1.4 访问可见性问题\n",
    "在Python中，属性和方法的访问权限只有两种，也就是公开的和私有的，如果希望属性是私有的，在给属性命名时可以用两个下划线为开头"
   ]
  },
  {
   "cell_type": "code",
   "execution_count": 6,
   "id": "posted-community",
   "metadata": {},
   "outputs": [
    {
     "ename": "AttributeError",
     "evalue": "'Test' object has no attribute '__bar'",
     "output_type": "error",
     "traceback": [
      "\u001b[1;31m---------------------------------------------------------------------------\u001b[0m",
      "\u001b[1;31mAttributeError\u001b[0m                            Traceback (most recent call last)",
      "\u001b[1;32m<ipython-input-6-f987d349e67b>\u001b[0m in \u001b[0;36m<module>\u001b[1;34m\u001b[0m\n\u001b[0;32m     13\u001b[0m \u001b[1;33m\u001b[0m\u001b[0m\n\u001b[0;32m     14\u001b[0m \u001b[1;32mif\u001b[0m \u001b[0m__name__\u001b[0m \u001b[1;33m==\u001b[0m \u001b[1;34m'__main__'\u001b[0m\u001b[1;33m:\u001b[0m\u001b[1;33m\u001b[0m\u001b[1;33m\u001b[0m\u001b[0m\n\u001b[1;32m---> 15\u001b[1;33m     \u001b[0mmain\u001b[0m\u001b[1;33m(\u001b[0m\u001b[1;33m)\u001b[0m\u001b[1;33m\u001b[0m\u001b[1;33m\u001b[0m\u001b[0m\n\u001b[0m",
      "\u001b[1;32m<ipython-input-6-f987d349e67b>\u001b[0m in \u001b[0;36mmain\u001b[1;34m()\u001b[0m\n\u001b[0;32m      9\u001b[0m \u001b[1;32mdef\u001b[0m \u001b[0mmain\u001b[0m\u001b[1;33m(\u001b[0m\u001b[1;33m)\u001b[0m\u001b[1;33m:\u001b[0m\u001b[1;33m\u001b[0m\u001b[1;33m\u001b[0m\u001b[0m\n\u001b[0;32m     10\u001b[0m     \u001b[0mtest\u001b[0m \u001b[1;33m=\u001b[0m \u001b[0mTest\u001b[0m\u001b[1;33m(\u001b[0m\u001b[1;34m'hello'\u001b[0m\u001b[1;33m)\u001b[0m\u001b[1;33m\u001b[0m\u001b[1;33m\u001b[0m\u001b[0m\n\u001b[1;32m---> 11\u001b[1;33m     \u001b[0mtest\u001b[0m\u001b[1;33m.\u001b[0m\u001b[0m__bar\u001b[0m\u001b[1;33m(\u001b[0m\u001b[1;33m)\u001b[0m\u001b[1;33m\u001b[0m\u001b[1;33m\u001b[0m\u001b[0m\n\u001b[0m\u001b[0;32m     12\u001b[0m     \u001b[0mprint\u001b[0m\u001b[1;33m(\u001b[0m\u001b[0mtest\u001b[0m\u001b[1;33m.\u001b[0m\u001b[0m__foo\u001b[0m\u001b[1;33m)\u001b[0m\u001b[1;33m\u001b[0m\u001b[1;33m\u001b[0m\u001b[0m\n\u001b[0;32m     13\u001b[0m \u001b[1;33m\u001b[0m\u001b[0m\n",
      "\u001b[1;31mAttributeError\u001b[0m: 'Test' object has no attribute '__bar'"
     ]
    }
   ],
   "source": [
    "class Test():\n",
    "    def __init__(self, foo):\n",
    "        self.__foo = foo\n",
    "        \n",
    "    def __bar(self):\n",
    "        print(self.__foo)\n",
    "        print('__bar')\n",
    "    \n",
    "def main():\n",
    "    test = Test('hello')\n",
    "    test.__bar()\n",
    "    print(test.__foo)\n",
    "    \n",
    "if __name__ == '__main__':\n",
    "    main()"
   ]
  },
  {
   "cell_type": "markdown",
   "id": "regular-lancaster",
   "metadata": {},
   "source": [
    "## 1.3 练习1："
   ]
  },
  {
   "cell_type": "code",
   "execution_count": 9,
   "id": "interior-calvin",
   "metadata": {},
   "outputs": [
    {
     "name": "stdout",
     "output_type": "stream",
     "text": [
      "23:59:58\n",
      "23:59:59\n",
      "0:0:0\n",
      "0:0:1\n",
      "0:0:2\n",
      "0:0:3\n",
      "0:0:4\n",
      "0:0:5\n",
      "0:0:6\n",
      "0:0:7\n"
     ]
    }
   ],
   "source": [
    "from time import sleep\n",
    "\n",
    "class Clock(object):\n",
    "    def __init__(self, hour = 0, minute = 0, second = 0):\n",
    "        self._hour = hour\n",
    "        self._minute = minute\n",
    "        self._second = second\n",
    "    def run(self):\n",
    "        self._second += 1\n",
    "        if self._second == 60:\n",
    "            self._second = 0\n",
    "            self._minute += 1\n",
    "            if self._minute == 60:\n",
    "                self._minute = 0\n",
    "                self._hour += 1\n",
    "                if self._hour == 24:\n",
    "                    self._hour = 0\n",
    "                    \n",
    "    def show(self):\n",
    "        return(\"{}:{}:{}\".format(self._hour, self._minute, self._second))\n",
    "    \n",
    "def main():\n",
    "    clock = Clock(23, 59, 58)\n",
    "    # while True:\n",
    "    for i in range(10):\n",
    "        print(clock.show())\n",
    "        sleep(1)\n",
    "        clock.run()\n",
    "if __name__ == '__main__':\n",
    "    main()"
   ]
  },
  {
   "cell_type": "code",
   "execution_count": null,
   "id": "qualified-acrobat",
   "metadata": {},
   "outputs": [],
   "source": []
  }
 ],
 "metadata": {
  "kernelspec": {
   "display_name": "Python 3",
   "language": "python",
   "name": "python3"
  },
  "language_info": {
   "codemirror_mode": {
    "name": "ipython",
    "version": 3
   },
   "file_extension": ".py",
   "mimetype": "text/x-python",
   "name": "python",
   "nbconvert_exporter": "python",
   "pygments_lexer": "ipython3",
   "version": "3.8.5"
  }
 },
 "nbformat": 4,
 "nbformat_minor": 5
}
