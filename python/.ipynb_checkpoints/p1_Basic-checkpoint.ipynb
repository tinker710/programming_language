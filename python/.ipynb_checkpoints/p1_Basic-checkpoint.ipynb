{
 "cells": [
  {
   "cell_type": "markdown",
   "id": "technical-printing",
   "metadata": {},
   "source": [
    "# Basic\n",
    "## type()\n",
    "在python中可以使用`type`函数对变量进行检查"
   ]
  },
  {
   "cell_type": "code",
   "execution_count": 1,
   "id": "built-potential",
   "metadata": {},
   "outputs": [
    {
     "name": "stdout",
     "output_type": "stream",
     "text": [
      "<class 'int'>\n",
      "<class 'float'>\n",
      "<class 'complex'>\n",
      "<class 'str'>\n",
      "<class 'bool'>\n"
     ]
    }
   ],
   "source": [
    "a = 100\n",
    "b = 12.345\n",
    "c = 1+5j\n",
    "d = 'hello, world'\n",
    "e = True\n",
    "print(type(a))\n",
    "print(type(b))\n",
    "print(type(c))\n",
    "print(type(d))\n",
    "print(type(e))"
   ]
  },
  {
   "cell_type": "markdown",
   "id": "cross-evanescence",
   "metadata": {},
   "source": [
    "## 分支结构\n",
    "分支结构可以使用`if`、`elif`和`else`关键字\n",
    "## 循环\n",
    "### for-in循环\n",
    "### while循环\n",
    "## 函数和模块\n",
    "### 定义函数\n",
    "在python中可以使用`def`关键字来定义函数\n",
    "```\n",
    "def add(a = 0,b = 0, c = 0):\n",
    "    return a+b+c\n",
    "```\n",
    "### 可变参数\n",
    "```\n",
    "# 在参数名前面的*表示args是一个可变参数\n",
    "def add(*args):\n",
    "    total = 0\n",
    "    for val in args:\n",
    "        total += val\n",
    "    return total\n",
    "```"
   ]
  },
  {
   "cell_type": "code",
   "execution_count": 2,
   "id": "finite-floating",
   "metadata": {},
   "outputs": [
    {
     "name": "stdout",
     "output_type": "stream",
     "text": [
      "1\n",
      "6\n"
     ]
    }
   ],
   "source": [
    "def add(*args):\n",
    "    total = 0\n",
    "    for val in args:\n",
    "        total += val\n",
    "    return total\n",
    "print(add(1))\n",
    "print(add(1,2,3))"
   ]
  },
  {
   "cell_type": "markdown",
   "id": "settled-justice",
   "metadata": {},
   "source": [
    "## 用模块管理函数\n",
    "1. python中每个文件就代表了一个模块（module），我们在不同的模块中可以有同名的函数，在使用函数的时候我们通过`import`关键字导入指定的模块就可以区分到底要使用的是哪个模块中的函数。\n",
    "2. 需要说明的是，如果我们导入的模块除了定义函数之外还有可以执行代码，那么Python解释器在导入这个模块时就会执行这些代码，事实上我们可能并不希望如此，因此如果我们在模块中编写了执行代码，最好是将这些执行代码放入如下所示的条件中，这样的话除非直接运行该模块，if条件下的这些代码是不会执行的，因为只有直接执行的模块的名字才是\"__main__\"。\n",
    "\n",
    "```\n",
    "def foo():\n",
    "    pass\n",
    "\n",
    "def bar():\n",
    "    pass\n",
    "    \n",
    "if __name__ == '__main__':\n",
    "    print('call foo()')\n",
    "    foo()\n",
    "    print('call bar()')\n",
    "    bar()\n",
    "```\n",
    "导入这个module时，不会执行模块中if条件成立时的代码，因为模块的名字是module3而不是__main__"
   ]
  },
  {
   "cell_type": "markdown",
   "id": "indonesian-rehabilitation",
   "metadata": {},
   "source": [
    "## 变量的作用域\n",
    "### 全局变量（global variable）\n",
    "1. 没有定义在任何一个函数中的变量\n",
    "2. global关键字"
   ]
  },
  {
   "cell_type": "markdown",
   "id": "apart-working",
   "metadata": {},
   "source": [
    "## 常用数据结构\n",
    "### 列表\n",
    "#### 生成式和生成器"
   ]
  },
  {
   "cell_type": "code",
   "execution_count": 7,
   "id": "passing-bonus",
   "metadata": {},
   "outputs": [
    {
     "name": "stdout",
     "output_type": "stream",
     "text": [
      "[1, 2, 3, 4, 5, 6, 7, 8, 9]\n",
      "['A1', 'A2', 'A3', 'A4', 'A5', 'A6', 'A7', 'B1', 'B2', 'B3', 'B4', 'B5', 'B6', 'B7', 'C1', 'C2', 'C3', 'C4', 'C5', 'C6', 'C7', 'D1', 'D2', 'D3', 'D4', 'D5', 'D6', 'D7', 'E1', 'E2', 'E3', 'E4', 'E5', 'E6', 'E7']\n",
      "9016\n",
      "112\n"
     ]
    }
   ],
   "source": [
    "import sys\n",
    "f = [x for x in range(1,10)]\n",
    "print(f)\n",
    "f = [x+y for x in 'ABCDE' for y in '1234567']\n",
    "print(f)\n",
    "# 用列表的生成表达式语法创建列表容器\n",
    "# 用这种语法创建列表之后元素已经准备就绪所以需要耗费较多的内存空间\n",
    "f = [x**2 for x in range(1,1000)]\n",
    "print(sys.getsizeof(f))\n",
    "#print(f)\n",
    "# 请注意下面的代码创建的不是一个列表而是一个生成器对象\n",
    "# 通过生成器可以获取到数据但它不占用额外的空间存储数据\n",
    "# 每次需要数据的时候就通过内部的运算得到数据（需要花费额外的时间）\n",
    "f = (x**2 for x in range(1,1000))\n",
    "print(sys.getsizeof(f)) #相比生成式，生成器不占用存储数据的空间\n",
    "#print(f)\n",
    "#for val in f:\n",
    "    #print(val)"
   ]
  },
  {
   "cell_type": "markdown",
   "id": "settled-retreat",
   "metadata": {},
   "source": [
    "除了上面提到的生成器语法，Python中还有另外一种定义生成器的方式，就是通过`yield`关键字将一个普通函数改造成生成器函数。下面的代码演示了如何实现一个生成斐波拉切数列的生成器。"
   ]
  },
  {
   "cell_type": "code",
   "execution_count": 10,
   "id": "hidden-consciousness",
   "metadata": {},
   "outputs": [
    {
     "name": "stdout",
     "output_type": "stream",
     "text": [
      "1\n",
      "1\n",
      "2\n",
      "3\n",
      "5\n",
      "8\n",
      "13\n",
      "21\n",
      "34\n",
      "55\n"
     ]
    }
   ],
   "source": [
    "def fib(n):\n",
    "    a,b = 0,1\n",
    "    for _ in range(n):\n",
    "        a,b = b, a + b\n",
    "        yield a\n",
    "        \n",
    "def main():\n",
    "    for val in fib(10):\n",
    "        print(val)\n",
    "if __name__ == '__main__':\n",
    "    main()"
   ]
  },
  {
   "cell_type": "markdown",
   "id": "standard-cigarette",
   "metadata": {},
   "source": [
    "### 元组\n",
    "### 集合\n",
    "python中的集合跟数学上的集合是一致的，不允许有重复元素，而且可以进行交集、并集、差集等运算。\n",
    "#### 像集合添加元素和从集合删除元素\n",
    "\n",
    "#### 集合的成员、交集、并集、对称差运算\n"
   ]
  },
  {
   "cell_type": "code",
   "execution_count": 12,
   "id": "following-puzzle",
   "metadata": {},
   "outputs": [
    {
     "name": "stdout",
     "output_type": "stream",
     "text": [
      "{1, 2, 3, 4, 5, 6, 7, 8, 9}\n",
      "{1, 2, 3, 4} {1, 2, 3, 6, 7, 8, 9, 11, 12}\n",
      "1\n",
      "{2, 3}\n"
     ]
    }
   ],
   "source": [
    "set1 = {1,2,3,3,3,2}\n",
    "set2 = set(range(1,10))\n",
    "print(set2)\n",
    "set3 = set((1,2,3,3,2,1))\n",
    "# print(set3)\n",
    "set4 = {num for num in range(1,100) if num % 3 == 0 or num % 5 == 0}\n",
    "\n",
    "set1.add(4)\n",
    "set2.update([11,12])\n",
    "set2.discard(5)\n",
    "if 4 in set2:\n",
    "    set2.remove(4)\n",
    "print(set1,set2)\n",
    "print(set3.pop())\n",
    "print(set3)\n",
    "\n",
    "# 集合的交集、并集、差集、对称差运算\n",
    "print(set1 & set2)\n",
    "# print(set1.intersection(set2))\n",
    "print(set1 | set2)\n",
    "# print(set1.union(set2))\n",
    "print(set1 - set2)\n",
    "# print(set1.difference(set2))\n",
    "print(set1 ^ set2)\n",
    "# print(set1.symmetric_difference(set2))\n",
    "# 判断子集和超集\n",
    "print(set2 <= set1)\n",
    "# print(set2.issubset(set1))\n",
    "print(set3 <= set1)\n",
    "# print(set3.issubset(set1))\n",
    "print(set1 >= set2)\n",
    "# print(set1.issuperset(set2))\n",
    "print(set1 >= set3)\n",
    "# print(set1.issuperset(set3))"
   ]
  },
  {
   "cell_type": "markdown",
   "id": "selected-hughes",
   "metadata": {},
   "source": [
    "### 字典\n",
    "字典是另一种可变容器模型，Python中的字典跟我们生活中使用的字典是一样一样的，它可以存储任意类型对象，与列表、集合不同的是，字典的每个元素都是由一个键和一个值组成的“键值对”，键和值通过冒号分开。下面的代码演示了如何定义和使用字典。"
   ]
  }
 ],
 "metadata": {
  "kernelspec": {
   "display_name": "Python 3",
   "language": "python",
   "name": "python3"
  },
  "language_info": {
   "codemirror_mode": {
    "name": "ipython",
    "version": 3
   },
   "file_extension": ".py",
   "mimetype": "text/x-python",
   "name": "python",
   "nbconvert_exporter": "python",
   "pygments_lexer": "ipython3",
   "version": "3.8.5"
  }
 },
 "nbformat": 4,
 "nbformat_minor": 5
}
